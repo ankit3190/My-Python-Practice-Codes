{
 "cells": [
  {
   "cell_type": "code",
   "execution_count": 1,
   "metadata": {},
   "outputs": [
    {
     "name": "stdout",
     "output_type": "stream",
     "text": [
      "11 12 13\n",
      "14\n"
     ]
    }
   ],
   "source": [
    "a=11\n",
    "\n",
    "b=12\n",
    "\n",
    "c=13 \n",
    "\n",
    "d=14\n",
    "\n",
    "print(a,b,c)\n",
    "\n",
    "print(d)"
   ]
  },
  {
   "cell_type": "code",
   "execution_count": 2,
   "metadata": {},
   "outputs": [
    {
     "name": "stdout",
     "output_type": "stream",
     "text": [
      "11 12 13 \n",
      "14\n"
     ]
    }
   ],
   "source": [
    "\n",
    "print('11 12 13 \\n14')"
   ]
  },
  {
   "cell_type": "code",
   "execution_count": 4,
   "metadata": {},
   "outputs": [
    {
     "name": "stdout",
     "output_type": "stream",
     "text": [
      "11 12 13\n",
      "14\n"
     ]
    }
   ],
   "source": [
    "\n",
    "\n",
    "\n",
    "a=11\n",
    "\n",
    "b=12\n",
    "\n",
    "c=13 \n",
    "\n",
    "d=14\n",
    "\n",
    "print('{0} {1} {2}'.format(a,b,c) )\n",
    "\n",
    "print(d)"
   ]
  },
  {
   "cell_type": "code",
   "execution_count": 5,
   "metadata": {},
   "outputs": [
    {
     "name": "stdout",
     "output_type": "stream",
     "text": [
      "11 12 13\n",
      "14\n"
     ]
    }
   ],
   "source": [
    "\n",
    "a=11\n",
    "\n",
    "b=12\n",
    "\n",
    "c=13 \n",
    "\n",
    "d=14\n",
    "\n",
    "print('%d %d %d' %(a,b,c))\n",
    "\n",
    "print(d)"
   ]
  },
  {
   "cell_type": "code",
   "execution_count": 6,
   "metadata": {
    "scrolled": true
   },
   "outputs": [
    {
     "name": "stdout",
     "output_type": "stream",
     "text": [
      "111213\n",
      "14\n"
     ]
    }
   ],
   "source": [
    "\n",
    "a=11\n",
    "\n",
    "b=12\n",
    "\n",
    "c=13 \n",
    "\n",
    "d=14\n",
    "\n",
    "print(f'{a}{b}{c}')\n",
    "\n",
    "print(d)"
   ]
  },
  {
   "cell_type": "markdown",
   "metadata": {},
   "source": [
    "**BASIC CODING**"
   ]
  },
  {
   "cell_type": "code",
   "execution_count": 10,
   "metadata": {},
   "outputs": [
    {
     "name": "stdout",
     "output_type": "stream",
     "text": [
      "Mutual Friends: 2\n",
      "['Arshit Srivastava', 'Varsha Khare']\n"
     ]
    }
   ],
   "source": [
    "# Facebook Mutual Friend\n",
    "import ast\n",
    "my_friend_list= ['Arshit Srivastava', 'Varsha Khare', 'Om Prakash Chaurasia','Apoorva Tripathi','Harshit Bhadauriya']\n",
    "searched_friend_list = ['Arshit Srivastava', 'Varsha Khare', 'Piyush Singh','Rashid Khan','Akhilesh Tripathi']\n",
    "mutual_friend_list = []\n",
    "counter = 0\n",
    "for i in my_friend_list:\n",
    "    for j in searched_friend_list:\n",
    "        if i == j:\n",
    "            counter+=1\n",
    "            mutual_friend_list.append(i)\n",
    "\n",
    "print(\"Mutual Friends:\",counter)\n",
    "print(mutual_friend_list)            \n",
    "        \n"
   ]
  },
  {
   "cell_type": "code",
   "execution_count": 11,
   "metadata": {},
   "outputs": [],
   "source": [
    "a = 8\n",
    "b = 4\n",
    "a = a+b"
   ]
  },
  {
   "cell_type": "code",
   "execution_count": 12,
   "metadata": {},
   "outputs": [
    {
     "data": {
      "text/plain": [
       "12"
      ]
     },
     "execution_count": 12,
     "metadata": {},
     "output_type": "execute_result"
    }
   ],
   "source": [
    "a"
   ]
  },
  {
   "cell_type": "code",
   "execution_count": 13,
   "metadata": {},
   "outputs": [
    {
     "data": {
      "text/plain": [
       "8"
      ]
     },
     "execution_count": 13,
     "metadata": {},
     "output_type": "execute_result"
    }
   ],
   "source": [
    "b = a-b\n",
    "b"
   ]
  },
  {
   "cell_type": "code",
   "execution_count": 15,
   "metadata": {},
   "outputs": [
    {
     "data": {
      "text/plain": [
       "4"
      ]
     },
     "execution_count": 15,
     "metadata": {},
     "output_type": "execute_result"
    }
   ],
   "source": [
    "a = int(b/2)\n",
    "a"
   ]
  },
  {
   "cell_type": "code",
   "execution_count": 16,
   "metadata": {},
   "outputs": [
    {
     "data": {
      "text/plain": [
       "(4, 8)"
      ]
     },
     "execution_count": 16,
     "metadata": {},
     "output_type": "execute_result"
    }
   ],
   "source": [
    "a,b"
   ]
  },
  {
   "cell_type": "code",
   "execution_count": 30,
   "metadata": {},
   "outputs": [
    {
     "name": "stdout",
     "output_type": "stream",
     "text": [
      "20,50\n",
      "x before swapping: 20\n",
      "y before swapping: 50\n",
      "\n",
      "x after swapping: 50\n",
      "y after swapping: 20\n"
     ]
    }
   ],
   "source": [
    "# Swapping\n",
    "in_string = input()\n",
    "input_list = in_string.split(',')\n",
    "x = int(input_list[0])\n",
    "y = int(input_list[1])\n",
    "print('x before swapping:',x)\n",
    "print('y before swapping:',y)\n",
    "x = x+y\n",
    "y = x-y\n",
    "x = x-y\n",
    "print()\n",
    "print('x after swapping:',x)\n",
    "print('y after swapping:',y)"
   ]
  },
  {
   "cell_type": "code",
   "execution_count": 25,
   "metadata": {},
   "outputs": [
    {
     "data": {
      "text/plain": [
       "int"
      ]
     },
     "execution_count": 25,
     "metadata": {},
     "output_type": "execute_result"
    }
   ],
   "source": [
    "type(y)"
   ]
  },
  {
   "cell_type": "code",
   "execution_count": 37,
   "metadata": {},
   "outputs": [
    {
     "name": "stdout",
     "output_type": "stream",
     "text": [
      "50\n",
      "16\n",
      "Pretty\n"
     ]
    }
   ],
   "source": [
    "# wrong approach\n",
    "k=int(input())\n",
    "n = int(input())\n",
    "if k == 3*n + 1:\n",
    "    print('Beautiful')\n",
    "elif k == 3*n +2:\n",
    "    print('Pretty')\n",
    "elif k == 3*n:\n",
    "    print('Sexy')"
   ]
  },
  {
   "cell_type": "code",
   "execution_count": 39,
   "metadata": {},
   "outputs": [
    {
     "name": "stdout",
     "output_type": "stream",
     "text": [
      "51\n",
      "sexy\n"
     ]
    }
   ],
   "source": [
    "#Beautiful, Sexy and Pretty\n",
    "#input has been taken for you\n",
    "\n",
    "k=int(input())\n",
    "\n",
    "#check if the number is beautiful, pretty or sexy\n",
    "\n",
    "if k%3==0: #if k is of form 3n\n",
    "    print('sexy')\n",
    "elif k%3==1: #else if k is of form 3n+1\n",
    "    print('beautiful')\n",
    "elif k%3==2: #else if k is of form 3n+2\n",
    "    print('pretty')\n"
   ]
  },
  {
   "cell_type": "code",
   "execution_count": 54,
   "metadata": {},
   "outputs": [
    {
     "name": "stdout",
     "output_type": "stream",
     "text": [
      "1\n",
      "False\n",
      "7:00\n"
     ]
    }
   ],
   "source": [
    "#Alarm Clock (my approach)\n",
    "weekday = [1,2,3,4,5]\n",
    "weekend = [6,7]\n",
    "day = int(input())\n",
    "vacation = input()\n",
    "if vacation == 'True':\n",
    "    if day in weekday:\n",
    "        print('10:00')\n",
    "    else:\n",
    "        print('off')\n",
    "        \n",
    "elif vacation == 'False':\n",
    "    if day in weekday:\n",
    "        print('7:00')\n",
    "    else:\n",
    "        print('10:00')\n",
    "else:\n",
    "    print('Not applicable')\n",
    "    \n",
    "        "
   ]
  },
  {
   "cell_type": "code",
   "execution_count": 55,
   "metadata": {},
   "outputs": [
    {
     "name": "stdout",
     "output_type": "stream",
     "text": [
      "1,False\n",
      "7:00\n"
     ]
    }
   ],
   "source": [
    "# Alarm Clock (Upgrad approach)\n",
    "#Take input here\n",
    "#we will take input using ast sys\n",
    "import ast\n",
    "input_str = input()\n",
    "\n",
    "#ast.literal_eval() will evaluate the string and make a data structure for the same\n",
    "#here the input is a list since input is in '[...]', so ast.literal_eval() will\n",
    "#make a list with the same data as passed\n",
    "input_list = ast.literal_eval(input_str)\n",
    "\n",
    "#the data or the two values in list is now changed to separate variables\n",
    "day_of_the_week = input_list[0] #first element is an integer denoting the day of the week\n",
    "is_on_vacation = input_list[1] #this is a boolean denoting if its vacation or not\n",
    "\n",
    "# write your code here\n",
    "def alarm_time(day_of_the_week, is_on_vacation):\n",
    "    weekend=[6,7]\n",
    "    if is_on_vacation and day_of_the_week not in weekend:\n",
    "        print(\"10:00\")\n",
    "    elif is_on_vacation and day_of_the_week in weekend:\n",
    "        print(\"off\")\n",
    "    elif not is_on_vacation and day_of_the_week not in weekend:\n",
    "        print(\"7:00\")\n",
    "    else:\n",
    "        print(\"10:00\")\n",
    "\n",
    "alarm_time(day_of_the_week, is_on_vacation)"
   ]
  },
  {
   "cell_type": "code",
   "execution_count": 1,
   "metadata": {},
   "outputs": [
    {
     "name": "stdout",
     "output_type": "stream",
     "text": [
      "4\n",
      "24\n"
     ]
    }
   ],
   "source": [
    "# Factorial problem\n",
    "number= int(input())\n",
    "\n",
    "\n",
    "\n",
    "#the function definition starts here\n",
    "def factorial(n):\n",
    "    #write the funtion here that finds and RETURNS factorial of next\n",
    "    if n<0:\n",
    "        return -1\n",
    "    elif n==0:\n",
    "        return 1\n",
    "            \n",
    "    \n",
    "        \n",
    "    else:\n",
    "        f=1\n",
    "        for i in range(1,n+1):\n",
    "            f=f*i\n",
    "        return f    \n",
    "    \n",
    "\n",
    "\n",
    "#function definition ends here\n",
    "\n",
    "#do not alter the code typed below\n",
    "k=factorial(number)\n",
    "print(k)"
   ]
  },
  {
   "cell_type": "code",
   "execution_count": 5,
   "metadata": {},
   "outputs": [
    {
     "name": "stdout",
     "output_type": "stream",
     "text": [
      "657890\n",
      "98756\n"
     ]
    }
   ],
   "source": [
    "# Reversing the digits\n",
    "n = int(input())\n",
    "r = 0\n",
    "while(n>0):\n",
    "    r = n%10 + r*10\n",
    "    n = n//10\n",
    "print(r)  \n"
   ]
  },
  {
   "cell_type": "code",
   "execution_count": 8,
   "metadata": {},
   "outputs": [
    {
     "name": "stdout",
     "output_type": "stream",
     "text": [
      "3,1\n",
      "4\n"
     ]
    }
   ],
   "source": [
    "# Total chocolates when offer is getting a bar of chocolate by return 3 wrapper to the shopkeeper\n",
    "in_string = input()\n",
    "input_list = in_string.split(',')\n",
    "m = int(input_list[0])\n",
    "c = int(input_list[1])\n",
    "choc = m//c\n",
    "w = m//c\n",
    "while(w//3!=0):\n",
    "    choc = choc+ w//3\n",
    "    w = w//3 + w%3\n",
    "print(choc)    "
   ]
  },
  {
   "cell_type": "code",
   "execution_count": 14,
   "metadata": {
    "scrolled": true
   },
   "outputs": [
    {
     "name": "stdout",
     "output_type": "stream",
     "text": [
      "3\n",
      "  *\n",
      " *_*\n",
      "*_*_*\n"
     ]
    }
   ],
   "source": [
    "# Printing pattern\n",
    "n = int(input())\n",
    "for i in range(1,n+1):\n",
    "    for j in range(n-i):\n",
    "        print(' ',end = '')\n",
    "    for k in range(i-1):\n",
    "        print('*_',end ='')\n",
    "            \n",
    "    print('*')"
   ]
  },
  {
   "cell_type": "markdown",
   "metadata": {},
   "source": [
    "**LISTS**"
   ]
  },
  {
   "cell_type": "code",
   "execution_count": 15,
   "metadata": {},
   "outputs": [],
   "source": [
    "L = [i for i in range(1, 5)]"
   ]
  },
  {
   "cell_type": "code",
   "execution_count": 16,
   "metadata": {},
   "outputs": [
    {
     "data": {
      "text/plain": [
       "[1, 2, 3, 4]"
      ]
     },
     "execution_count": 16,
     "metadata": {},
     "output_type": "execute_result"
    }
   ],
   "source": [
    "L"
   ]
  },
  {
   "cell_type": "code",
   "execution_count": 17,
   "metadata": {},
   "outputs": [
    {
     "name": "stdout",
     "output_type": "stream",
     "text": [
      "0\n"
     ]
    }
   ],
   "source": [
    "L=[2, 3, 4, 2, 1, 2, 3]\n",
    "print(L.index(2))"
   ]
  },
  {
   "cell_type": "code",
   "execution_count": 18,
   "metadata": {},
   "outputs": [
    {
     "data": {
      "text/plain": [
       "list"
      ]
     },
     "execution_count": 18,
     "metadata": {},
     "output_type": "execute_result"
    }
   ],
   "source": [
    "a= [1,2,-3,-2,7,0]\n",
    "type(a)"
   ]
  },
  {
   "cell_type": "code",
   "execution_count": 21,
   "metadata": {},
   "outputs": [],
   "source": [
    "#smallest number using python functions\n",
    "b = min(a)"
   ]
  },
  {
   "cell_type": "code",
   "execution_count": 22,
   "metadata": {},
   "outputs": [
    {
     "data": {
      "text/plain": [
       "-3"
      ]
     },
     "execution_count": 22,
     "metadata": {},
     "output_type": "execute_result"
    }
   ],
   "source": [
    "b"
   ]
  },
  {
   "cell_type": "code",
   "execution_count": 23,
   "metadata": {},
   "outputs": [
    {
     "name": "stdout",
     "output_type": "stream",
     "text": [
      "-3\n"
     ]
    }
   ],
   "source": [
    "# Smallest number in a list using loop\n",
    "min = a[0]\n",
    "for item in a:\n",
    "    if item<min:\n",
    "        min= item\n",
    "print(min)        "
   ]
  },
  {
   "cell_type": "code",
   "execution_count": 29,
   "metadata": {},
   "outputs": [
    {
     "name": "stdout",
     "output_type": "stream",
     "text": [
      "2\n"
     ]
    }
   ],
   "source": [
    "a= [1,2,-3,-2,7,0]\n",
    "b = sorted(a, reverse = True)\n",
    "print(b[1])"
   ]
  },
  {
   "cell_type": "code",
   "execution_count": 28,
   "metadata": {},
   "outputs": [
    {
     "name": "stdout",
     "output_type": "stream",
     "text": [
      "2\n"
     ]
    }
   ],
   "source": []
  },
  {
   "cell_type": "code",
   "execution_count": 30,
   "metadata": {},
   "outputs": [
    {
     "data": {
      "text/plain": [
       "5"
      ]
     },
     "execution_count": 30,
     "metadata": {},
     "output_type": "execute_result"
    }
   ],
   "source": [
    "sum(a)\n"
   ]
  },
  {
   "cell_type": "code",
   "execution_count": 31,
   "metadata": {},
   "outputs": [],
   "source": [
    "c = len(a)"
   ]
  },
  {
   "cell_type": "code",
   "execution_count": 32,
   "metadata": {},
   "outputs": [
    {
     "data": {
      "text/plain": [
       "6"
      ]
     },
     "execution_count": 32,
     "metadata": {},
     "output_type": "execute_result"
    }
   ],
   "source": [
    "c"
   ]
  },
  {
   "cell_type": "code",
   "execution_count": 33,
   "metadata": {},
   "outputs": [],
   "source": [
    "avg= sum(a)/len(a)"
   ]
  },
  {
   "cell_type": "code",
   "execution_count": 34,
   "metadata": {},
   "outputs": [
    {
     "data": {
      "text/plain": [
       "0.8333333333333334"
      ]
     },
     "execution_count": 34,
     "metadata": {},
     "output_type": "execute_result"
    }
   ],
   "source": [
    "avg"
   ]
  },
  {
   "cell_type": "code",
   "execution_count": null,
   "metadata": {},
   "outputs": [],
   "source": []
  },
  {
   "cell_type": "code",
   "execution_count": null,
   "metadata": {},
   "outputs": [],
   "source": []
  },
  {
   "cell_type": "code",
   "execution_count": null,
   "metadata": {},
   "outputs": [],
   "source": []
  },
  {
   "cell_type": "code",
   "execution_count": 36,
   "metadata": {},
   "outputs": [
    {
     "name": "stdout",
     "output_type": "stream",
     "text": [
      "[12,45,89,10,38,16]\n",
      "78\n",
      "average: 35.0\n",
      "above avg\n"
     ]
    }
   ],
   "source": [
    "# Calculate average of a list and take a number and check if it is above average or below average (My approach)\n",
    "import ast\n",
    "input_list = ast.literal_eval(input())\n",
    "num = int(input())\n",
    "average_of_list = sum(input_list)/len(input_list)\n",
    "print(\"average:\",average_of_list)\n",
    "if num>average_of_list:\n",
    "    print(\"above avg\")\n",
    "else:\n",
    "    print('below avg')"
   ]
  },
  {
   "cell_type": "code",
   "execution_count": 40,
   "metadata": {},
   "outputs": [
    {
     "name": "stdout",
     "output_type": "stream",
     "text": [
      "[ [2,4,6,8,-10],  4]\n",
      "True\n"
     ]
    }
   ],
   "source": [
    "# Calculate average of a list and take a number and check if it is above average or below average\n",
    "#Take input here\n",
    "#we will take input using ast sys\n",
    "import ast\n",
    "input_str = input()\n",
    "input_list = ast.literal_eval(input_str)\n",
    "\n",
    "#Remember how we took input in the Alarm clock Question in previous Session?\n",
    "#Lets see if you can finish taking input on your own\n",
    "\n",
    "data=input_list[0]\n",
    "check= input_list[1]\n",
    "average = sum(data)/len(data)\n",
    "if check>average:\n",
    "    print('True')\n",
    "else:\n",
    "    print('False')\n",
    "\n",
    "#start writing your code to find if check is above average of data \n"
   ]
  },
  {
   "cell_type": "code",
   "execution_count": 56,
   "metadata": {},
   "outputs": [
    {
     "name": "stdout",
     "output_type": "stream",
     "text": [
      "[10,20,30,40,50]\n",
      "[30,60,80,40]\n",
      "[10, 20, 30, 40, 50, 60, 80]\n"
     ]
    }
   ],
   "source": [
    "# Recruit New Members\n",
    "\n",
    "#you have to take input on your own here\n",
    "import ast\n",
    "team = ast.literal_eval(input())\n",
    "applicant = ast.literal_eval(input())\n",
    "def check_above_avg(data,check):\n",
    "    avg = sum(data)/len(data)\n",
    "    if check>avg:\n",
    "        return 1\n",
    "    else:\n",
    "        return 0\n",
    "for appl in applicant:\n",
    "    is_add = check_above_avg(team,appl)\n",
    "    if is_add ==1:\n",
    "        team.append(appl)\n",
    "print(team)        \n",
    "        "
   ]
  },
  {
   "cell_type": "code",
   "execution_count": 54,
   "metadata": {},
   "outputs": [
    {
     "name": "stdout",
     "output_type": "stream",
     "text": [
      "[ [29,31], [23,26], [24,25] ]\n",
      "24\n",
      "Wedding is clashing with  2 events\n"
     ]
    }
   ],
   "source": [
    "# Calender check (my approach)   Wrong approach\n",
    "import ast\n",
    "input_str1 = input()\n",
    "input_list1 = ast.literal_eval(input_str1)\n",
    "events = input_list1\n",
    "\n",
    "wedding = int(input())\n",
    "counter = 0\n",
    "for i in events:\n",
    "    for j in i:\n",
    "        if wedding in i:\n",
    "            counter+=1\n",
    "        #print(j)\n",
    "print('Wedding is clashing with ',counter,\"events\")        "
   ]
  },
  {
   "cell_type": "code",
   "execution_count": 55,
   "metadata": {},
   "outputs": [
    {
     "name": "stdout",
     "output_type": "stream",
     "text": [
      "[ [29,31], [23,26], [24,25] ]\n",
      "24\n",
      "2\n"
     ]
    }
   ],
   "source": [
    "# # Calender check (Upgrad approach)  Correct approach\n",
    "import ast\n",
    "input_str1 = input()\n",
    "input_list1 = ast.literal_eval(input_str1)\n",
    "events = input_list1\n",
    "\n",
    "wedding = int(input())\n",
    "counter = 0\n",
    "for event in events:\n",
    "    if event[0]<=wedding and event[1]>=wedding:\n",
    "        counter+=1\n",
    "        \n",
    "print(counter)        "
   ]
  },
  {
   "cell_type": "code",
   "execution_count": 56,
   "metadata": {},
   "outputs": [
    {
     "name": "stdout",
     "output_type": "stream",
     "text": [
      "4,5\n",
      "[1, 1, 1, 1, 1]\n",
      "[1, 0, 0, 0, 1]\n",
      "[1, 0, 0, 0, 1]\n",
      "[1, 1, 1, 1, 1]\n"
     ]
    }
   ],
   "source": [
    "# Fenced Matrix\n",
    "import ast\n",
    "my_list = ast.literal_eval(input())\n",
    "m = my_list[0]\n",
    "n = my_list[1]\n",
    "final = [0]*n\n",
    "# [0,0,0,0,0] for n = 5\n",
    "final = [list(final) for i in range(m)]\n",
    "for i in range(m):\n",
    "    for j in range(n):\n",
    "        if i==0 or j==0 or i==m-1 or j==n-1:\n",
    "            final[i][j]=1\n",
    "for i in final:\n",
    "    print(i)"
   ]
  },
  {
   "cell_type": "code",
   "execution_count": 58,
   "metadata": {},
   "outputs": [
    {
     "name": "stdout",
     "output_type": "stream",
     "text": [
      "[1, 0, 0]\n",
      "[0, 0, 0]\n",
      "[0, 0, 0]\n"
     ]
    }
   ],
   "source": [
    "original_list=[0, 0, 0]\n",
    "copy1=original_list\n",
    "copy2=list(original_list)\n",
    "copy3=list.copy(original_list)\n",
    "original_list[0] = 1\n",
    "print(copy1)\n",
    "print(copy2)\n",
    "print(copy3)"
   ]
  },
  {
   "cell_type": "markdown",
   "metadata": {},
   "source": [
    "**STRINGS**"
   ]
  },
  {
   "cell_type": "code",
   "execution_count": 61,
   "metadata": {},
   "outputs": [
    {
     "name": "stdout",
     "output_type": "stream",
     "text": [
      "3\n"
     ]
    }
   ],
   "source": [
    "a= print(chr(51))"
   ]
  },
  {
   "cell_type": "code",
   "execution_count": 62,
   "metadata": {},
   "outputs": [
    {
     "data": {
      "text/plain": [
       "NoneType"
      ]
     },
     "execution_count": 62,
     "metadata": {},
     "output_type": "execute_result"
    }
   ],
   "source": [
    "type(a)"
   ]
  },
  {
   "cell_type": "code",
   "execution_count": 66,
   "metadata": {},
   "outputs": [
    {
     "name": "stdout",
     "output_type": "stream",
     "text": [
      "{\n"
     ]
    }
   ],
   "source": [
    "print(chr(123))"
   ]
  },
  {
   "cell_type": "code",
   "execution_count": 67,
   "metadata": {},
   "outputs": [
    {
     "data": {
      "text/plain": [
       "'upGrad'"
      ]
     },
     "execution_count": 67,
     "metadata": {},
     "output_type": "execute_result"
    }
   ],
   "source": [
    "\n",
    "'G'.join(['up','rad'])"
   ]
  },
  {
   "cell_type": "code",
   "execution_count": 68,
   "metadata": {},
   "outputs": [
    {
     "data": {
      "text/plain": [
       "'upGrad'"
      ]
     },
     "execution_count": 68,
     "metadata": {},
     "output_type": "execute_result"
    }
   ],
   "source": [
    "s='aabupGradaab'.strip('a').strip('b').strip('a')\n",
    "s\n"
   ]
  },
  {
   "cell_type": "code",
   "execution_count": 6,
   "metadata": {},
   "outputs": [
    {
     "name": "stdout",
     "output_type": "stream",
     "text": [
      "HAnnah\n",
      "1\n"
     ]
    }
   ],
   "source": [
    "# Palindrome Question (My approach)\n",
    "s = input()\n",
    "def palindrome(s):\n",
    "    \n",
    "    s_new = s.lower()\n",
    "    r = s_new[::-1]\n",
    "    if s_new ==r:\n",
    "        return 1\n",
    "    else:\n",
    "        return 0\n",
    "print(palindrome(s))  \n"
   ]
  },
  {
   "cell_type": "code",
   "execution_count": 11,
   "metadata": {},
   "outputs": [
    {
     "name": "stdout",
     "output_type": "stream",
     "text": [
      "HAnnah\n",
      "1\n"
     ]
    }
   ],
   "source": [
    "# palindrome question (Upgrad approach)\n",
    "\n",
    "# Read the input\n",
    "s = input()\n",
    "\n",
    "#check for palindrome here\n",
    "\n",
    "# Convert all the characters of the string to lowercase so that your program is\n",
    "# not case-sensitive. You can also use 'lower()', alternatively.\n",
    "s = s.lower()\n",
    "\n",
    "# Initialise your reversed string as an empty string and store it in a variable\n",
    "# called \"r\"\n",
    "r =\"\"\n",
    "\n",
    "# Run a loop throughout the length of the string\n",
    "for i in s:\n",
    "# Keep adding the current character to rev_str, i.e. the string reversed so far.\n",
    "# Make sure 'i' is kept before 'r' in the addition process or you will get\n",
    "# the r exactly same as the original string.\n",
    "    r = i+r\n",
    "\n",
    "# Compare the reversed and the original string. If they are the same, the string\n",
    "# is a palindrome; otherwise it is not a palindrome.\n",
    "if r==s:\n",
    "    print(1)\n",
    "else:\n",
    "    print(0)\n"
   ]
  },
  {
   "cell_type": "code",
   "execution_count": 15,
   "metadata": {
    "scrolled": true
   },
   "outputs": [
    {
     "data": {
      "text/plain": [
       "['I', 'love', 'coding', 'in', 'python']"
      ]
     },
     "execution_count": 15,
     "metadata": {},
     "output_type": "execute_result"
    }
   ],
   "source": [
    "a = 'I love coding in python'\n",
    "b = a.split(' ')\n",
    "b"
   ]
  },
  {
   "cell_type": "code",
   "execution_count": 19,
   "metadata": {},
   "outputs": [
    {
     "data": {
      "text/plain": [
       "list"
      ]
     },
     "execution_count": 19,
     "metadata": {},
     "output_type": "execute_result"
    }
   ],
   "source": [
    "type(b)"
   ]
  },
  {
   "cell_type": "code",
   "execution_count": 17,
   "metadata": {},
   "outputs": [
    {
     "name": "stdout",
     "output_type": "stream",
     "text": [
      "python in coding love I \n"
     ]
    }
   ],
   "source": [
    "r = ''\n",
    "for i in b:\n",
    "    r = i+' '+r\n",
    "print(r)    \n",
    "    "
   ]
  },
  {
   "cell_type": "code",
   "execution_count": 18,
   "metadata": {},
   "outputs": [
    {
     "name": "stdout",
     "output_type": "stream",
     "text": [
      "python is super easy and fun\n",
      "fun and easy super is python \n"
     ]
    }
   ],
   "source": [
    "# Reversing words (My approach)\n",
    "sentence=input()\n",
    "sent_list = sentence.split(' ')\n",
    "r =''\n",
    "for i in sent_list:\n",
    "    r = i +' '+ r\n",
    "print(r)  "
   ]
  },
  {
   "cell_type": "code",
   "execution_count": 30,
   "metadata": {},
   "outputs": [
    {
     "name": "stdout",
     "output_type": "stream",
     "text": [
      "python is super easy and fun\n",
      "fun and easy super is python\n"
     ]
    }
   ],
   "source": [
    "# Reversing words (2nd approach)\n",
    "sentence=input()\n",
    "sent_list = sentence.split(' ')\n",
    "sent_list.reverse() \n",
    "r = ' '.join(sent_list)\n",
    "print(r)"
   ]
  },
  {
   "cell_type": "code",
   "execution_count": 40,
   "metadata": {
    "scrolled": true
   },
   "outputs": [
    {
     "name": "stdout",
     "output_type": "stream",
     "text": [
      "data science\n",
      "Data_Science\n"
     ]
    }
   ],
   "source": [
    "# No space (My approach)\n",
    "s=input()\n",
    "s_new = s.lower()\n",
    "l = s_new.split(' ')\n",
    "l_new = []\n",
    "for  i in l:\n",
    "    i = i[0].upper()+i[1:]\n",
    "    l_new.append(i)\n",
    "l_final = '_'.join(l_new)  \n",
    "print(l_final)\n",
    "\n",
    "    \n",
    "    \n",
    "   "
   ]
  },
  {
   "cell_type": "code",
   "execution_count": 41,
   "metadata": {},
   "outputs": [
    {
     "name": "stdout",
     "output_type": "stream",
     "text": [
      "data science\n",
      "Data_Science\n"
     ]
    }
   ],
   "source": [
    "# No spaces (Upgrad approach using comprehension)\n",
    "s=input()\n",
    "s_new = s.lower()\n",
    "l = s_new.split(' ')\n",
    "l_new = (i[0].upper()+i[1:] for i in l )\n",
    "l_final = '_'.join(l_new)  \n",
    "print(l_final)"
   ]
  },
  {
   "cell_type": "code",
   "execution_count": 43,
   "metadata": {},
   "outputs": [
    {
     "name": "stdout",
     "output_type": "stream",
     "text": [
      "data science\n",
      "Data_Science\n"
     ]
    }
   ],
   "source": [
    "# No spaces (Upgrad approach using title())\n",
    "s=input()\n",
    "s_new = s.lower()\n",
    "l = s_new.split(' ')\n",
    "l_new = (i.title() for i in l )\n",
    "l_final = '_'.join(l_new)  \n",
    "print(l_final)"
   ]
  },
  {
   "cell_type": "code",
   "execution_count": 51,
   "metadata": {},
   "outputs": [
    {
     "name": "stdout",
     "output_type": "stream",
     "text": [
      "programming\n",
      "oaiprgrmmng\n"
     ]
    }
   ],
   "source": [
    "# Move vowels to front\n",
    "s= input()\n",
    "vowel = 'aeiouAEIOU'\n",
    "v=''\n",
    "c=''\n",
    "for o in s:\n",
    "    if o in vowel:\n",
    "        v = v+o\n",
    "    else:\n",
    "        c = c+o\n",
    "final_str = v + c\n",
    "print(final_str)"
   ]
  },
  {
   "cell_type": "code",
   "execution_count": 53,
   "metadata": {},
   "outputs": [
    {
     "name": "stdout",
     "output_type": "stream",
     "text": [
      "abshdksajd\n",
      "abshiehand\n",
      "aabshhdsaad\n"
     ]
    }
   ],
   "source": [
    "s1 = input()\n",
    "s2 = input()\n",
    "prefix = ''\n",
    "for i in s1:\n",
    "    for j in s2:\n",
    "        if i==j:\n",
    "            prefix+=i\n",
    "print(prefix)            \n",
    "        "
   ]
  },
  {
   "cell_type": "code",
   "execution_count": 55,
   "metadata": {},
   "outputs": [
    {
     "name": "stdout",
     "output_type": "stream",
     "text": [
      "upgradData\n",
      "upGradScience\n",
      "upgrad\n"
     ]
    }
   ],
   "source": [
    "string1 = input()\n",
    "string2 = input()\n",
    "s1 = string1.lower()\n",
    "s2 = string2.lower()\n",
    "l1 = len(s1)\n",
    "l2 = len(s2)\n",
    "min_len=  min(l1,l2)\n",
    "for i in range(min_len):\n",
    "    if s1[i]!=s2[i]:\n",
    "        break\n",
    "if i==0:\n",
    "    print(-1)\n",
    "else:\n",
    "    print(s1[:i])"
   ]
  },
  {
   "cell_type": "code",
   "execution_count": 71,
   "metadata": {},
   "outputs": [
    {
     "name": "stdout",
     "output_type": "stream",
     "text": [
      "senator\n",
      "trEason\n",
      "False\n"
     ]
    }
   ],
   "source": [
    "# Anagram \n",
    "\n",
    "s = input()\n",
    "t = input()\n",
    "#s = s.lower()\n",
    "#t = t.lower()\n",
    "def anagram(s,t):\n",
    "    if len(s)!=len(t):\n",
    "        return False\n",
    "    for i in range(len(s)):\n",
    "        if s1.count(s1[i])!= s2.count(s1[i]):\n",
    "            return False          \n",
    "    return True\n",
    "\n",
    "print(anagram(s,t))"
   ]
  },
  {
   "cell_type": "markdown",
   "metadata": {},
   "source": [
    "**DICTIONARY**"
   ]
  },
  {
   "cell_type": "code",
   "execution_count": 1,
   "metadata": {},
   "outputs": [
    {
     "ename": "KeyError",
     "evalue": "'e'",
     "output_type": "error",
     "traceback": [
      "\u001b[1;31m---------------------------------------------------------------------------\u001b[0m",
      "\u001b[1;31mKeyError\u001b[0m                                  Traceback (most recent call last)",
      "\u001b[1;32m<ipython-input-1-0256b7aecbd4>\u001b[0m in \u001b[0;36m<module>\u001b[1;34m\u001b[0m\n\u001b[0;32m      1\u001b[0m \u001b[0md\u001b[0m\u001b[1;33m=\u001b[0m\u001b[1;33m{\u001b[0m\u001b[1;34m'a'\u001b[0m\u001b[1;33m:\u001b[0m\u001b[1;36m64\u001b[0m\u001b[1;33m,\u001b[0m \u001b[1;34m'b'\u001b[0m\u001b[1;33m:\u001b[0m\u001b[1;36m65\u001b[0m\u001b[1;33m,\u001b[0m \u001b[1;34m'c'\u001b[0m\u001b[1;33m:\u001b[0m\u001b[1;36m66\u001b[0m\u001b[1;33m,\u001b[0m \u001b[1;34m'd'\u001b[0m\u001b[1;33m:\u001b[0m\u001b[1;36m67\u001b[0m\u001b[1;33m}\u001b[0m\u001b[1;33m\u001b[0m\u001b[1;33m\u001b[0m\u001b[0m\n\u001b[1;32m----> 2\u001b[1;33m \u001b[0mprint\u001b[0m\u001b[1;33m(\u001b[0m\u001b[0md\u001b[0m\u001b[1;33m[\u001b[0m\u001b[1;34m'e'\u001b[0m\u001b[1;33m]\u001b[0m\u001b[1;33m)\u001b[0m\u001b[1;33m\u001b[0m\u001b[1;33m\u001b[0m\u001b[0m\n\u001b[0m",
      "\u001b[1;31mKeyError\u001b[0m: 'e'"
     ]
    }
   ],
   "source": [
    "d={'a':64, 'b':65, 'c':66, 'd':67}\n",
    "print(d['e'])"
   ]
  },
  {
   "cell_type": "code",
   "execution_count": 2,
   "metadata": {},
   "outputs": [
    {
     "name": "stdout",
     "output_type": "stream",
     "text": [
      "dict_keys(['a', 'b', 'c', 'd'])\n"
     ]
    }
   ],
   "source": [
    "d={'a':64, 'b':65, 'c':66, 'd':67}\n",
    "print(d.keys())"
   ]
  },
  {
   "cell_type": "code",
   "execution_count": 3,
   "metadata": {},
   "outputs": [],
   "source": [
    "a = [8, 9, 2, 2, 3, 4, 5, 2]\n",
    "b = set(a)"
   ]
  },
  {
   "cell_type": "code",
   "execution_count": 4,
   "metadata": {},
   "outputs": [
    {
     "data": {
      "text/plain": [
       "{2, 3, 4, 5, 8, 9}"
      ]
     },
     "execution_count": 4,
     "metadata": {},
     "output_type": "execute_result"
    }
   ],
   "source": [
    "b\n"
   ]
  },
  {
   "cell_type": "code",
   "execution_count": 5,
   "metadata": {},
   "outputs": [],
   "source": [
    "a = list(b)"
   ]
  },
  {
   "cell_type": "code",
   "execution_count": 8,
   "metadata": {},
   "outputs": [
    {
     "name": "stdout",
     "output_type": "stream",
     "text": [
      "[9, 8, 5, 4, 3, 2]\n"
     ]
    }
   ],
   "source": [
    "print(sorted(a,reverse = True))"
   ]
  },
  {
   "cell_type": "code",
   "execution_count": 10,
   "metadata": {},
   "outputs": [
    {
     "name": "stdout",
     "output_type": "stream",
     "text": [
      "[8, 9, 2, 2, 3, 4, 5, 2]\n",
      "[8, 9, 2, 3, 4, 5]\n"
     ]
    }
   ],
   "source": [
    "# removing duplicates\n",
    "\n",
    "import ast\n",
    "my_list = ast.literal_eval(input())\n",
    "d = {}\n",
    "for item in my_list:\n",
    "    if item not in d:\n",
    "        d[item] = 1\n",
    "print(list(d.keys()))        "
   ]
  },
  {
   "cell_type": "code",
   "execution_count": 12,
   "metadata": {},
   "outputs": [
    {
     "name": "stdout",
     "output_type": "stream",
     "text": [
      "{'Mobile': ['Redmi', 'Samsung', 'Realme'],  'Laptop': ['Dell', 'HP'], 'TV': ['Videocon', 'Sony'] }\n",
      "['Mobile_Redmi', 'Mobile_Samsung', 'Mobile_Realme', 'Laptop_Dell', 'Laptop_HP', 'TV_Videocon', 'TV_Sony']\n"
     ]
    }
   ],
   "source": [
    "# Dictionary to list\n",
    "import ast\n",
    "input_str = input()\n",
    "#input dictionary has been received in input_dict\n",
    "input_dict = ast.literal_eval(input_str)\n",
    "list = []\n",
    "for key in input_dict:\n",
    "    for word in input_dict[key]:\n",
    "        list.append(key+'_'+word)\n",
    "print(list)        "
   ]
  },
  {
   "cell_type": "code",
   "execution_count": 22,
   "metadata": {},
   "outputs": [
    {
     "name": "stdout",
     "output_type": "stream",
     "text": [
      "$yrr$ssrsr%\n",
      "False\n"
     ]
    }
   ],
   "source": [
    "# Upgrad String\n",
    "s = input()\n",
    "d = {}\n",
    "for item in s:\n",
    "    if item not in d:\n",
    "        d[item] = 1\n",
    "    else:\n",
    "        d[item]+=1\n",
    "val = d.values()\n",
    "n = len(d)\n",
    "def upgrad_string(val):\n",
    "    for i in range(1,n+1):\n",
    "        if i not in val:\n",
    "            return False\n",
    "        \n",
    "    return True\n",
    "print(upgrad_string(val))   \n"
   ]
  },
  {
   "cell_type": "code",
   "execution_count": 25,
   "metadata": {},
   "outputs": [
    {
     "name": "stdout",
     "output_type": "stream",
     "text": [
      "){[[]]}())()\n",
      "No\n"
     ]
    }
   ],
   "source": [
    "# Brackets\n",
    "inp = input()\n",
    "stack= []\n",
    "for i in inp:\n",
    "    if len(stack)==0:\n",
    "        stack.append(i)\n",
    "    else:\n",
    "        if i== ')'and stack[-1]=='(':\n",
    "            stack.pop()\n",
    "        elif i== '}'and stack[-1]=='{':\n",
    "            stack.pop()\n",
    "        elif i== ']'and stack[-1]=='[':\n",
    "            stack.pop()    \n",
    "        else:\n",
    "            stack.append(i)\n",
    "if stack:\n",
    "    print('No')\n",
    "else:\n",
    "    print(\"Yes\")"
   ]
  },
  {
   "cell_type": "code",
   "execution_count": null,
   "metadata": {},
   "outputs": [],
   "source": []
  }
 ],
 "metadata": {
  "kernelspec": {
   "display_name": "Python 3",
   "language": "python",
   "name": "python3"
  },
  "language_info": {
   "codemirror_mode": {
    "name": "ipython",
    "version": 3
   },
   "file_extension": ".py",
   "mimetype": "text/x-python",
   "name": "python",
   "nbconvert_exporter": "python",
   "pygments_lexer": "ipython3",
   "version": "3.7.4"
  }
 },
 "nbformat": 4,
 "nbformat_minor": 2
}
